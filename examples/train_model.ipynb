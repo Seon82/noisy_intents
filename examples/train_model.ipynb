{
 "cells": [
  {
   "cell_type": "code",
   "execution_count": null,
   "id": "1ef756da",
   "metadata": {},
   "outputs": [],
   "source": [
    "import torch\n",
    "from torch.utils.data import DataLoader\n",
    "from transformers import BertTokenizer\n",
    "import numpy as np\n",
    "from torchmetrics import Accuracy, Precision, Recall, F1Score\n",
    "from noisy_intents.data import DydaDA\n",
    "from noisy_intents.training import train, autodetect_device\n",
    "from noisy_intents.models import BERT\n",
    "from noisy_intents.eval import compute_metrics"
   ]
  },
  {
   "cell_type": "markdown",
   "id": "62667c47",
   "metadata": {},
   "source": [
    "## Load data"
   ]
  },
  {
   "cell_type": "code",
   "execution_count": null,
   "id": "e15b739e",
   "metadata": {},
   "outputs": [],
   "source": [
    "tokenizer = BertTokenizer.from_pretrained(\"bert-base-uncased\")"
   ]
  },
  {
   "cell_type": "code",
   "execution_count": null,
   "id": "bc69b1c2",
   "metadata": {},
   "outputs": [],
   "source": [
    "train_data = DydaDA.from_hugging_face(\"train\", tokenizer, max_len=128)\n",
    "val_data = DydaDA.from_hugging_face(\"validation\", tokenizer, max_len=128)"
   ]
  },
  {
   "cell_type": "code",
   "execution_count": null,
   "id": "be6d803f",
   "metadata": {},
   "outputs": [],
   "source": [
    "train_loader = DataLoader(train_data, batch_size=64, num_workers=8, drop_last=True)\n",
    "val_loader = DataLoader(val_data, batch_size=64, shuffle=False, num_workers=8, drop_last=True)"
   ]
  },
  {
   "cell_type": "markdown",
   "id": "4b67f447",
   "metadata": {},
   "source": [
    "## Load model"
   ]
  },
  {
   "cell_type": "code",
   "execution_count": null,
   "id": "ab518453",
   "metadata": {},
   "outputs": [],
   "source": [
    "device = autodetect_device()"
   ]
  },
  {
   "cell_type": "code",
   "execution_count": null,
   "id": "b775069f",
   "metadata": {},
   "outputs": [],
   "source": [
    "model = BERT(num_classes=4, dropout=0.1)\n",
    "model.to(device);"
   ]
  },
  {
   "cell_type": "markdown",
   "id": "631a891e",
   "metadata": {},
   "source": [
    "Freeze all layers apart from the classification head:"
   ]
  },
  {
   "cell_type": "code",
   "execution_count": null,
   "id": "c3b909b7",
   "metadata": {},
   "outputs": [],
   "source": [
    "for name, param in model.named_parameters():\n",
    "    if \"l1\" in name:\n",
    "        param.requires_grad = False\n",
    "    else:\n",
    "        param.requires_grad = True"
   ]
  },
  {
   "cell_type": "code",
   "execution_count": null,
   "id": "8d53d2a5",
   "metadata": {},
   "outputs": [],
   "source": [
    "optimizer = torch.optim.AdamW(params=model.parameters(), lr=7e-4)"
   ]
  },
  {
   "cell_type": "markdown",
   "id": "38412383",
   "metadata": {},
   "source": [
    "Determine inverse class frequencies to re-weight the loss function:"
   ]
  },
  {
   "cell_type": "code",
   "execution_count": null,
   "id": "c96ec802",
   "metadata": {},
   "outputs": [],
   "source": [
    "counts = np.bincount(train_data.data[:][\"Label\"])\n",
    "freq = counts / counts.sum()\n",
    "weights = torch.from_numpy((1 / freq) / (1 / freq).sum()).float().to(device)"
   ]
  },
  {
   "cell_type": "markdown",
   "id": "978070ef",
   "metadata": {},
   "source": [
    "The training can be followed using tensorboard:"
   ]
  },
  {
   "cell_type": "code",
   "execution_count": null,
   "id": "8a478b07",
   "metadata": {},
   "outputs": [],
   "source": [
    "train(\n",
    "    epochs=10,\n",
    "    model=model,\n",
    "    loss_fn=torch.nn.CrossEntropyLoss(weight=weights),\n",
    "    optimizer=optimizer,\n",
    "    device=device,\n",
    "    train_loader=train_loader,\n",
    "    val_loader=val_loader,\n",
    "    val_metrics_freq=1,\n",
    "    metrics=[  # Log metrics on tensorboard during training\n",
    "        Accuracy(\"multiclass\", num_classes=4),\n",
    "        Accuracy(\"multiclass\", num_classes=4, average=\"macro\"),\n",
    "        Precision(\"multiclass\", num_classes=4, average=\"macro\"),\n",
    "        Recall(\"multiclass\", num_classes=4, average=\"macro\"),\n",
    "        F1Score(\"multiclass\", num_classes=4, average=\"macro\"),\n",
    "    ],\n",
    "    log_dir=\"./logs/bert_base_uncased\",  # Tensorboard log_dir\n",
    ")"
   ]
  },
  {
   "cell_type": "code",
   "execution_count": null,
   "id": "62839ae5",
   "metadata": {},
   "outputs": [],
   "source": [
    "torch.save(model, \"best_bert.py\")"
   ]
  },
  {
   "cell_type": "markdown",
   "id": "41ee58e0",
   "metadata": {},
   "source": [
    "## Evaluate the model on the validation set"
   ]
  },
  {
   "cell_type": "code",
   "execution_count": null,
   "id": "e0cfed7b",
   "metadata": {},
   "outputs": [],
   "source": [
    "compute_metrics(\n",
    "    model,\n",
    "    val_loader,\n",
    "    device,\n",
    "    metrics=[\n",
    "        Accuracy(\"multiclass\", num_classes=4, average=\"micro\"),\n",
    "        Accuracy(\"multiclass\", num_classes=4, average=\"macro\"),\n",
    "        Accuracy(\"multiclass\", num_classes=4, average=None),\n",
    "        Precision(\"multiclass\", num_classes=4, average=\"macro\"),\n",
    "        Recall(\"multiclass\", num_classes=4, average=\"macro\"),\n",
    "        F1Score(\"multiclass\", num_classes=4, average=\"macro\"),\n",
    "        F1Score(\"multiclass\", num_classes=4, average=None),\n",
    "    ],\n",
    ")"
   ]
  }
 ],
 "metadata": {
  "kernelspec": {
   "display_name": "nlp",
   "language": "python",
   "name": "python3"
  },
  "language_info": {
   "codemirror_mode": {
    "name": "ipython",
    "version": 3
   },
   "file_extension": ".py",
   "mimetype": "text/x-python",
   "name": "python",
   "nbconvert_exporter": "python",
   "pygments_lexer": "ipython3",
   "version": "3.10.9"
  }
 },
 "nbformat": 4,
 "nbformat_minor": 5
}
