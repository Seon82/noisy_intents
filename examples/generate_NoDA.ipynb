{
 "cells": [
  {
   "cell_type": "code",
   "execution_count": 18,
   "id": "19956606",
   "metadata": {},
   "outputs": [],
   "source": [
    "import os\n",
    "import re\n",
    "import sys\n",
    "\n",
    "import librosa\n",
    "import numpy as np\n",
    "import pandas as pd\n",
    "import torch\n",
    "import whisper\n",
    "import jiwer\n",
    "from datasets import load_dataset\n",
    "from TTS.api import TTS\n",
    "from tqdm.notebook import tqdm"
   ]
  },
  {
   "cell_type": "code",
   "execution_count": 2,
   "id": "b5579a8e",
   "metadata": {},
   "outputs": [],
   "source": [
    "class hide_print:\n",
    "    \"\"\"\n",
    "    Redirect stdout to stdnull\n",
    "    \"\"\"\n",
    "\n",
    "    def __enter__(self):\n",
    "        self._original_stdout = sys.stdout\n",
    "        sys.stdout = open(os.devnull, \"w\")\n",
    "\n",
    "    def __exit__(self, *args):\n",
    "        sys.stdout.close()\n",
    "        sys.stdout = self._original_stdout"
   ]
  },
  {
   "cell_type": "code",
   "execution_count": 3,
   "id": "88a7f435",
   "metadata": {},
   "outputs": [],
   "source": [
    "noise, sr = librosa.load(\"restaurant.wav\")  # Load background noise\n",
    "\n",
    "\n",
    "def add_noise(waveform, noise, snr):\n",
    "    \"\"\"\n",
    "    Add noise to an audio signal while respecting a SNR\n",
    "    \"\"\"\n",
    "    L = len(waveform)\n",
    "    if L > len(noise):\n",
    "        noise = np.repeat(noise, 1 + L // len(noise))\n",
    "    noise = noise[:L]\n",
    "    energy_signal = np.linalg.norm(waveform, ord=2) ** 2\n",
    "    energy_noise = np.linalg.norm(noise, ord=2) ** 2\n",
    "    original_snr_db = 10 * (np.log10(energy_signal) - np.log10(energy_noise))\n",
    "    scale = 10 ** ((original_snr_db - snr) / 20.0)\n",
    "\n",
    "    # scale noise\n",
    "    return np.asarray(waveform) + np.asarray(noise) * scale"
   ]
  },
  {
   "cell_type": "code",
   "execution_count": 4,
   "id": "15b2f6e2",
   "metadata": {},
   "outputs": [],
   "source": [
    "# Load tacotron\n",
    "with hide_print():\n",
    "    tts = TTS(\"tts_models/en/ljspeech/tacotron2-DDC\")\n",
    "\n",
    "# Load whisper\n",
    "model = whisper.load_model(\"small.en\")"
   ]
  },
  {
   "cell_type": "code",
   "execution_count": 5,
   "id": "fca45a61",
   "metadata": {},
   "outputs": [
    {
     "name": "stderr",
     "output_type": "stream",
     "text": [
      "WARNING:datasets.builder:Found cached dataset silicone (/home/dylan/.cache/huggingface/datasets/silicone/dyda_da/1.0.0/af617406c94e3f78da85f7ea74ebfbd3f297a9665cb54adbae305b03bc4442a5)\n"
     ]
    }
   ],
   "source": [
    "test_data = load_dataset(\"silicone\", \"dyda_da\", split=\"test\")"
   ]
  },
  {
   "cell_type": "code",
   "execution_count": 16,
   "id": "074f5cfc",
   "metadata": {},
   "outputs": [],
   "source": [
    "expr = re.compile(r\"([^a-zA-Z0-9' ]| +)+\")\n",
    "normalize = lambda x: re.sub(expr, \" \", x).lower().strip(\" \")\n",
    "\n",
    "\n",
    "def wer(s1, s2):\n",
    "    return jiwer.wer(normalize(s1), normalize(s2))"
   ]
  },
  {
   "cell_type": "code",
   "execution_count": 8,
   "id": "eecb2f50",
   "metadata": {},
   "outputs": [
    {
     "data": {
      "application/vnd.jupyter.widget-view+json": {
       "model_id": "70dcc25a4ffa444e8acfa132f128044a",
       "version_major": 2,
       "version_minor": 0
      },
      "text/plain": [
       "  0%|          | 0/10 [00:00<?, ?it/s]"
      ]
     },
     "metadata": {},
     "output_type": "display_data"
    }
   ],
   "source": [
    "data = test_data[:10]  # test_data[:] to regenerate all of NoDA. It will take several hours\n",
    "\n",
    "texts, labels = [], []\n",
    "\n",
    "for i in tqdm(range(len(data[\"Utterance\"]))):\n",
    "    utterance, label = data[\"Utterance\"][i], data[\"Label\"][i]\n",
    "    with hide_print():\n",
    "        audio = tts.tts(utterance)\n",
    "    audio = add_noise(audio, noise, snr=5)\n",
    "    stt_utterance = model.transcribe(torch.tensor(audio).float())[\"text\"]\n",
    "    texts.append(stt_utterance.lower())\n",
    "    labels.append(label)"
   ]
  },
  {
   "cell_type": "code",
   "execution_count": 12,
   "id": "2280a159",
   "metadata": {},
   "outputs": [
    {
     "data": {
      "text/html": [
       "<div>\n",
       "<style scoped>\n",
       "    .dataframe tbody tr th:only-of-type {\n",
       "        vertical-align: middle;\n",
       "    }\n",
       "\n",
       "    .dataframe tbody tr th {\n",
       "        vertical-align: top;\n",
       "    }\n",
       "\n",
       "    .dataframe thead th {\n",
       "        text-align: right;\n",
       "    }\n",
       "</style>\n",
       "<table border=\"1\" class=\"dataframe\">\n",
       "  <thead>\n",
       "    <tr style=\"text-align: right;\">\n",
       "      <th></th>\n",
       "      <th>text</th>\n",
       "      <th>label</th>\n",
       "    </tr>\n",
       "  </thead>\n",
       "  <tbody>\n",
       "    <tr>\n",
       "      <th>0</th>\n",
       "      <td>amen. you want a boy, strong week.</td>\n",
       "      <td>1</td>\n",
       "    </tr>\n",
       "    <tr>\n",
       "      <th>1</th>\n",
       "      <td>somewhat.</td>\n",
       "      <td>3</td>\n",
       "    </tr>\n",
       "    <tr>\n",
       "      <th>2</th>\n",
       "      <td>weed you know. pops. gangell. mary jane. some...</td>\n",
       "      <td>1</td>\n",
       "    </tr>\n",
       "    <tr>\n",
       "      <th>3</th>\n",
       "      <td>all one old famous.</td>\n",
       "      <td>0</td>\n",
       "    </tr>\n",
       "    <tr>\n",
       "      <th>4</th>\n",
       "      <td>i also have blown with you preferred to do a ...</td>\n",
       "      <td>1</td>\n",
       "    </tr>\n",
       "    <tr>\n",
       "      <th>5</th>\n",
       "      <td>no, i am all real wrong.</td>\n",
       "      <td>0</td>\n",
       "    </tr>\n",
       "    <tr>\n",
       "      <th>6</th>\n",
       "      <td>come on, man. i even got dope and acid. free ...</td>\n",
       "      <td>1</td>\n",
       "    </tr>\n",
       "    <tr>\n",
       "      <th>7</th>\n",
       "      <td>where do you really have all of these drugs? ...</td>\n",
       "      <td>3</td>\n",
       "    </tr>\n",
       "    <tr>\n",
       "      <th>8</th>\n",
       "      <td>i got me connections. just tell me what you w...</td>\n",
       "      <td>1</td>\n",
       "    </tr>\n",
       "    <tr>\n",
       "      <th>9</th>\n",
       "      <td>sounds good. let us see. i want.</td>\n",
       "      <td>0</td>\n",
       "    </tr>\n",
       "  </tbody>\n",
       "</table>\n",
       "</div>"
      ],
      "text/plain": [
       "                                                text  label\n",
       "0                 amen. you want a boy, strong week.      1\n",
       "1                                          somewhat.      3\n",
       "2   weed you know. pops. gangell. mary jane. some...      1\n",
       "3                                all one old famous.      0\n",
       "4   i also have blown with you preferred to do a ...      1\n",
       "5                           no, i am all real wrong.      0\n",
       "6   come on, man. i even got dope and acid. free ...      1\n",
       "7   where do you really have all of these drugs? ...      3\n",
       "8   i got me connections. just tell me what you w...      1\n",
       "9                   sounds good. let us see. i want.      0"
      ]
     },
     "execution_count": 12,
     "metadata": {},
     "output_type": "execute_result"
    }
   ],
   "source": [
    "df = pd.DataFrame({\"text\": texts, \"label\": labels})\n",
    "df"
   ]
  }
 ],
 "metadata": {
  "kernelspec": {
   "display_name": "nlp",
   "language": "python",
   "name": "python3"
  },
  "language_info": {
   "codemirror_mode": {
    "name": "ipython",
    "version": 3
   },
   "file_extension": ".py",
   "mimetype": "text/x-python",
   "name": "python",
   "nbconvert_exporter": "python",
   "pygments_lexer": "ipython3",
   "version": "3.10.9"
  }
 },
 "nbformat": 4,
 "nbformat_minor": 5
}
