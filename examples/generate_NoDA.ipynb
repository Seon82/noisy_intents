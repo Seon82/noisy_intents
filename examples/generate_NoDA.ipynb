{
 "cells": [
  {
   "cell_type": "code",
   "execution_count": null,
   "id": "19956606",
   "metadata": {},
   "outputs": [],
   "source": [
    "import os\n",
    "import re\n",
    "import sys\n",
    "\n",
    "import librosa\n",
    "import numpy as np\n",
    "import pandas as pd\n",
    "import torch\n",
    "import whisper\n",
    "import jiwer\n",
    "from datasets import load_dataset\n",
    "from TTS.api import TTS\n",
    "from tqdm.notebook import tqdm"
   ]
  },
  {
   "cell_type": "code",
   "execution_count": null,
   "id": "b5579a8e",
   "metadata": {},
   "outputs": [],
   "source": [
    "class hide_print:\n",
    "    \"\"\"\n",
    "    Redirect stdout to stdnull\n",
    "    \"\"\"\n",
    "\n",
    "    def __enter__(self):\n",
    "        self._original_stdout = sys.stdout\n",
    "        sys.stdout = open(os.devnull, \"w\")\n",
    "\n",
    "    def __exit__(self, *args):\n",
    "        sys.stdout.close()\n",
    "        sys.stdout = self._original_stdout"
   ]
  },
  {
   "cell_type": "code",
   "execution_count": null,
   "id": "88a7f435",
   "metadata": {},
   "outputs": [],
   "source": [
    "noise, sr = librosa.load(\"restaurant.wav\")  # Load background noise\n",
    "\n",
    "\n",
    "def add_noise(waveform, noise, snr):\n",
    "    \"\"\"\n",
    "    Add noise to an audio signal while respecting a SNR\n",
    "    \"\"\"\n",
    "    L = len(waveform)\n",
    "    if L > len(noise):\n",
    "        noise = np.repeat(noise, 1 + L // len(noise))\n",
    "    noise = noise[:L]\n",
    "    energy_signal = np.linalg.norm(waveform, ord=2) ** 2\n",
    "    energy_noise = np.linalg.norm(noise, ord=2) ** 2\n",
    "    original_snr_db = 10 * (np.log10(energy_signal) - np.log10(energy_noise))\n",
    "    scale = 10 ** ((original_snr_db - snr) / 20.0)\n",
    "\n",
    "    # scale noise\n",
    "    return np.asarray(waveform) + np.asarray(noise) * scale"
   ]
  },
  {
   "cell_type": "code",
   "execution_count": null,
   "id": "15b2f6e2",
   "metadata": {},
   "outputs": [],
   "source": [
    "# Load tacotron\n",
    "with hide_print():\n",
    "    tts = TTS(\"tts_models/en/ljspeech/tacotron2-DDC\")\n",
    "\n",
    "# Load whisper\n",
    "model = whisper.load_model(\"small.en\")"
   ]
  },
  {
   "cell_type": "code",
   "execution_count": null,
   "id": "fca45a61",
   "metadata": {},
   "outputs": [],
   "source": [
    "test_data = load_dataset(\"silicone\", \"dyda_da\", split=\"test\")"
   ]
  },
  {
   "cell_type": "code",
   "execution_count": null,
   "id": "074f5cfc",
   "metadata": {},
   "outputs": [],
   "source": [
    "expr = re.compile(r\"([^a-zA-Z0-9' ]| +)+\")\n",
    "normalize = lambda x: re.sub(expr, \" \", x).lower().strip(\" \")\n",
    "\n",
    "\n",
    "def wer(s1, s2):\n",
    "    return jiwer.wer(normalize(s1), normalize(s2))"
   ]
  },
  {
   "cell_type": "code",
   "execution_count": null,
   "id": "eecb2f50",
   "metadata": {},
   "outputs": [],
   "source": [
    "data = test_data[:10]  # test_data[:] to regenerate all of NoDA. It will take several hours\n",
    "\n",
    "texts, labels = [], []\n",
    "\n",
    "for i in tqdm(range(len(data[\"Utterance\"]))):\n",
    "    utterance, label = data[\"Utterance\"][i], data[\"Label\"][i]\n",
    "    with hide_print():\n",
    "        audio = tts.tts(utterance)\n",
    "    audio = add_noise(audio, noise, snr=5)\n",
    "    stt_utterance = model.transcribe(torch.tensor(audio).float())[\"text\"]\n",
    "    texts.append(stt_utterance.lower())\n",
    "    labels.append(label)"
   ]
  },
  {
   "cell_type": "code",
   "execution_count": null,
   "id": "2280a159",
   "metadata": {},
   "outputs": [],
   "source": [
    "df = pd.DataFrame({\"text\": texts, \"label\": labels})\n",
    "df"
   ]
  }
 ],
 "metadata": {
  "kernelspec": {
   "display_name": "nlp",
   "language": "python",
   "name": "python3"
  },
  "language_info": {
   "codemirror_mode": {
    "name": "ipython",
    "version": 3
   },
   "file_extension": ".py",
   "mimetype": "text/x-python",
   "name": "python",
   "nbconvert_exporter": "python",
   "pygments_lexer": "ipython3",
   "version": "3.10.9"
  }
 },
 "nbformat": 4,
 "nbformat_minor": 5
}
