{
 "cells": [
  {
   "cell_type": "code",
   "execution_count": null,
   "id": "5abb34ee",
   "metadata": {},
   "outputs": [],
   "source": [
    "import torch\n",
    "from torch.utils.data import DataLoader\n",
    "import seaborn as sns\n",
    "import matplotlib.pyplot as plt\n",
    "\n",
    "from noisy_intents.data import DydaDA, NoDA\n",
    "from noisy_intents.training import autodetect_device\n",
    "from noisy_intents.eval import compute_metrics\n",
    "from transformers import BertTokenizer\n",
    "from torchmetrics import Accuracy, Precision, Recall, F1Score, ConfusionMatrix"
   ]
  },
  {
   "cell_type": "code",
   "execution_count": null,
   "id": "579097bd",
   "metadata": {},
   "outputs": [],
   "source": [
    "tokenizer = BertTokenizer.from_pretrained(\"bert-base-uncased\")"
   ]
  },
  {
   "cell_type": "markdown",
   "id": "e5f5f065",
   "metadata": {},
   "source": [
    "## Load model"
   ]
  },
  {
   "cell_type": "code",
   "execution_count": null,
   "id": "48bb85bf",
   "metadata": {},
   "outputs": [],
   "source": [
    "device = autodetect_device()"
   ]
  },
  {
   "cell_type": "code",
   "execution_count": null,
   "id": "6f1b0153",
   "metadata": {},
   "outputs": [],
   "source": [
    "model = torch.load(\"best_bert_finetuned.pt\")"
   ]
  },
  {
   "cell_type": "code",
   "execution_count": null,
   "id": "70d4e44b",
   "metadata": {},
   "outputs": [],
   "source": [
    "model.to(device);"
   ]
  },
  {
   "cell_type": "markdown",
   "id": "b3c5a930",
   "metadata": {},
   "source": [
    "## On test set"
   ]
  },
  {
   "cell_type": "code",
   "execution_count": null,
   "id": "4a916adc",
   "metadata": {},
   "outputs": [],
   "source": [
    "test_data = DydaDA.from_hugging_face(\"test\", tokenizer, max_len=128)\n",
    "test_loader = DataLoader(test_data, batch_size=64, num_workers=8, drop_last=True)"
   ]
  },
  {
   "cell_type": "code",
   "execution_count": null,
   "id": "df23cc55",
   "metadata": {},
   "outputs": [],
   "source": [
    "cm = compute_metrics(\n",
    "    model,\n",
    "    test_loader,\n",
    "    device,\n",
    "    metrics=[\n",
    "        ConfusionMatrix(\"multiclass\", num_classes=4),\n",
    "    ],\n",
    ")\n",
    "cm = cm[0].cpu().numpy().astype(int)\n",
    "cm"
   ]
  },
  {
   "cell_type": "code",
   "execution_count": null,
   "id": "6f3834bc",
   "metadata": {},
   "outputs": [],
   "source": [
    "labels = [\"Commissive\", \"Directive\", \"Question\", \"Inform\"]\n",
    "sns.heatmap(cm / cm.sum(), annot=True, fmt=\".2%\", cmap=\"Blues\")\n",
    "plt.gca().xaxis.set_ticklabels(labels)\n",
    "plt.gca().yaxis.set_ticklabels(labels)\n",
    "plt.xlabel(\"Predicted class\")\n",
    "plt.ylabel(\"True class\")"
   ]
  },
  {
   "cell_type": "code",
   "execution_count": null,
   "id": "594f980e",
   "metadata": {},
   "outputs": [],
   "source": [
    "metrics = [\n",
    "    Accuracy(\"multiclass\", num_classes=4, average=None),\n",
    "    Precision(\"multiclass\", num_classes=4, average=None),\n",
    "    Recall(\"multiclass\", num_classes=4, average=None),\n",
    "    F1Score(\"multiclass\", num_classes=4, average=None),\n",
    "    Accuracy(\"multiclass\", num_classes=4, average=\"micro\"),\n",
    "    Accuracy(\"multiclass\", num_classes=4, average=\"macro\"),\n",
    "    Precision(\"multiclass\", num_classes=4, average=\"macro\"),\n",
    "    Recall(\"multiclass\", num_classes=4, average=\"macro\"),\n",
    "    F1Score(\"multiclass\", num_classes=4, average=\"macro\"),\n",
    "    F1Score(\"multiclass\", num_classes=4, average=\"micro\"),\n",
    "]"
   ]
  },
  {
   "cell_type": "code",
   "execution_count": null,
   "id": "a5d04f56",
   "metadata": {},
   "outputs": [],
   "source": [
    "compute_metrics(model, test_loader, device, metrics=metrics)"
   ]
  },
  {
   "cell_type": "markdown",
   "id": "c8518301",
   "metadata": {},
   "source": [
    "## On NoDA"
   ]
  },
  {
   "cell_type": "code",
   "execution_count": null,
   "id": "9aef9e0b",
   "metadata": {},
   "outputs": [],
   "source": [
    "noda_data = NoDA(tokenizer, max_len=128)\n",
    "noda_loader = DataLoader(noda_data, batch_size=64, num_workers=8, drop_last=True)"
   ]
  },
  {
   "cell_type": "code",
   "execution_count": null,
   "id": "4699b7c5",
   "metadata": {},
   "outputs": [],
   "source": [
    "cm2 = compute_metrics(\n",
    "    model,\n",
    "    noda_loader,\n",
    "    device,\n",
    "    metrics=[\n",
    "        ConfusionMatrix(\"multiclass\", num_classes=4),\n",
    "    ],\n",
    ")\n",
    "cm2 = cm2[0].cpu().numpy().astype(int)\n",
    "cm2"
   ]
  },
  {
   "cell_type": "code",
   "execution_count": null,
   "id": "c398597e",
   "metadata": {},
   "outputs": [],
   "source": [
    "labels = [\"Commissive\", \"Directive\", \"Question\", \"Inform\"]\n",
    "sns.heatmap(cm2 / cm2.sum(), annot=True, fmt=\".2%\", cmap=\"Blues\")\n",
    "plt.gca().xaxis.set_ticklabels(labels)\n",
    "plt.gca().yaxis.set_ticklabels(labels)\n",
    "plt.xlabel(\"Predicted class\")\n",
    "plt.ylabel(\"True class\")"
   ]
  },
  {
   "cell_type": "code",
   "execution_count": null,
   "id": "d237c936",
   "metadata": {},
   "outputs": [],
   "source": [
    "compute_metrics(model, noda_loader, device, metrics=metrics)"
   ]
  }
 ],
 "metadata": {
  "kernelspec": {
   "display_name": "nlp",
   "language": "python",
   "name": "python3"
  },
  "language_info": {
   "codemirror_mode": {
    "name": "ipython",
    "version": 3
   },
   "file_extension": ".py",
   "mimetype": "text/x-python",
   "name": "python",
   "nbconvert_exporter": "python",
   "pygments_lexer": "ipython3",
   "version": "3.10.9"
  }
 },
 "nbformat": 4,
 "nbformat_minor": 5
}
